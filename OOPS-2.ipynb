{
 "cells": [
  {
   "cell_type": "code",
   "execution_count": 1,
   "id": "efad00f1",
   "metadata": {},
   "outputs": [],
   "source": [
    "class car:\n",
    "    def __init__(self,name,milage):\n",
    "        self.name = name\n",
    "        self.milage = milage\n",
    "        \n",
    "    def brand_name(self):\n",
    "        if 'Tata' in self.name:\n",
    "            print('Tata')\n",
    "        else:\n",
    "            print('Others')\n",
    "            \n",
    "    def locomotion(self):\n",
    "        if 'Tata' in self.name:\n",
    "            print('vroom vroom')\n",
    "        else:\n",
    "            print('Zzzz...')"
   ]
  },
  {
   "cell_type": "code",
   "execution_count": 9,
   "id": "812969ec",
   "metadata": {},
   "outputs": [],
   "source": [
    "a1 = car('Tata',25)"
   ]
  },
  {
   "cell_type": "code",
   "execution_count": 10,
   "id": "58134fb4",
   "metadata": {},
   "outputs": [
    {
     "name": "stdout",
     "output_type": "stream",
     "text": [
      "Tata\n"
     ]
    }
   ],
   "source": [
    "a1.brand_name()"
   ]
  },
  {
   "cell_type": "code",
   "execution_count": 11,
   "id": "9e9a9c9e",
   "metadata": {},
   "outputs": [
    {
     "name": "stdout",
     "output_type": "stream",
     "text": [
      "vroom vroom\n"
     ]
    }
   ],
   "source": [
    "a1.locomotion() "
   ]
  },
  {
   "cell_type": "code",
   "execution_count": null,
   "id": "e4e7b591",
   "metadata": {},
   "outputs": [],
   "source": []
  },
  {
   "cell_type": "code",
   "execution_count": null,
   "id": "82d6b5d4",
   "metadata": {},
   "outputs": [],
   "source": []
  },
  {
   "cell_type": "markdown",
   "id": "dcb4c3ff",
   "metadata": {},
   "source": [
    "### DUNDER METHOD / MAGIC METHOD\n",
    "- Dunder methods, Dunder here means “Double Under (Underscores)"
   ]
  },
  {
   "cell_type": "markdown",
   "id": "c86e85a5",
   "metadata": {},
   "source": [
    "- `__INIT__`\n",
    "- `__ADD__`\n",
    "- `__STR__`\n",
    "- `__IT__`\n",
    "- etc"
   ]
  },
  {
   "cell_type": "code",
   "execution_count": null,
   "id": "89b09e36",
   "metadata": {},
   "outputs": [],
   "source": []
  },
  {
   "cell_type": "code",
   "execution_count": null,
   "id": "bb3c0544",
   "metadata": {},
   "outputs": [],
   "source": [
    "# what change do I need to make to get 6th line printed"
   ]
  },
  {
   "cell_type": "code",
   "execution_count": 27,
   "id": "dca0e749",
   "metadata": {},
   "outputs": [],
   "source": [
    "class car:\n",
    "    def __init__(self,name,milage):\n",
    "        self.name = name\n",
    "        self.milage = milage\n",
    "    \n",
    "    # whenever object is printed ,__str__() function is called\n",
    "    def ssdf(self):\n",
    "        print(self.name)"
   ]
  },
  {
   "cell_type": "code",
   "execution_count": 28,
   "id": "23caec2b",
   "metadata": {},
   "outputs": [],
   "source": [
    "c2 = car('tata',25)"
   ]
  },
  {
   "cell_type": "code",
   "execution_count": 29,
   "id": "255bf0fe",
   "metadata": {},
   "outputs": [
    {
     "name": "stdout",
     "output_type": "stream",
     "text": [
      "<bound method car.s of <__main__.car object at 0x000002087C268F10>>\n"
     ]
    }
   ],
   "source": [
    "print(c2.s)"
   ]
  },
  {
   "cell_type": "code",
   "execution_count": null,
   "id": "644ae93b",
   "metadata": {},
   "outputs": [],
   "source": []
  },
  {
   "cell_type": "code",
   "execution_count": null,
   "id": "821f9841",
   "metadata": {},
   "outputs": [],
   "source": [
    "# what change do I need to make to get 6th line 'print this' printed"
   ]
  },
  {
   "cell_type": "code",
   "execution_count": 30,
   "id": "4a392691",
   "metadata": {},
   "outputs": [],
   "source": [
    "class car:\n",
    "    def __init__(self,name,milage):\n",
    "        self.name = name\n",
    "        self.milage = milage\n",
    "        \n",
    "    def brand_name(self):\n",
    "        print('print this')\n",
    "            \n",
    "    "
   ]
  },
  {
   "cell_type": "code",
   "execution_count": 32,
   "id": "71161f7d",
   "metadata": {},
   "outputs": [],
   "source": [
    "c3 = car('honda',30)"
   ]
  },
  {
   "cell_type": "code",
   "execution_count": 34,
   "id": "c0309067",
   "metadata": {},
   "outputs": [
    {
     "name": "stdout",
     "output_type": "stream",
     "text": [
      "<bound method car.brand_name of <__main__.car object at 0x000002087C2CE610>>\n"
     ]
    }
   ],
   "source": [
    "print(c3.brand_name)"
   ]
  },
  {
   "cell_type": "code",
   "execution_count": null,
   "id": "0766e1cf",
   "metadata": {},
   "outputs": [],
   "source": []
  },
  {
   "cell_type": "code",
   "execution_count": null,
   "id": "e8bff7eb",
   "metadata": {},
   "outputs": [],
   "source": [
    "#----------------------------------------------------------------------------"
   ]
  },
  {
   "cell_type": "code",
   "execution_count": null,
   "id": "fc5a94bc",
   "metadata": {},
   "outputs": [],
   "source": []
  },
  {
   "cell_type": "markdown",
   "id": "a94c0469",
   "metadata": {},
   "source": [
    "`__ADD__`"
   ]
  },
  {
   "cell_type": "code",
   "execution_count": 35,
   "id": "01f576f7",
   "metadata": {},
   "outputs": [],
   "source": [
    "# PYTHON DEFAULT FUNCTION FOR '+' ADD/PLUS FOR INTEGER\n",
    "# IT CAN BE CHANGED BY OUR WILL\n",
    "\n",
    "class demo:\n",
    "    def __init__(self,name,number):\n",
    "        self.name = name\n",
    "        self.number = number\n",
    "        \n",
    "    def __add__(self,other):\n",
    "        return self.number - other.number # CHANGED '+' INTO '-'"
   ]
  },
  {
   "cell_type": "code",
   "execution_count": 37,
   "id": "428d98ba",
   "metadata": {},
   "outputs": [],
   "source": [
    "demo1 = demo('sourabh',30)\n",
    "demo2 = demo('kumar',10)"
   ]
  },
  {
   "cell_type": "code",
   "execution_count": 38,
   "id": "c24a8649",
   "metadata": {},
   "outputs": [
    {
     "data": {
      "text/plain": [
       "20"
      ]
     },
     "execution_count": 38,
     "metadata": {},
     "output_type": "execute_result"
    }
   ],
   "source": [
    "# DUE TO ABOVE CHANGE IN '-' SIGN IT GETS SUBTRACTED.\n",
    "demo1 + demo2"
   ]
  },
  {
   "cell_type": "code",
   "execution_count": null,
   "id": "8bba6c43",
   "metadata": {},
   "outputs": [],
   "source": []
  },
  {
   "cell_type": "code",
   "execution_count": null,
   "id": "82208158",
   "metadata": {},
   "outputs": [],
   "source": []
  },
  {
   "cell_type": "markdown",
   "id": "e55e8e86",
   "metadata": {},
   "source": [
    "`__lt__`\n",
    "#### LESS THAN"
   ]
  },
  {
   "cell_type": "code",
   "execution_count": null,
   "id": "bd43c40d",
   "metadata": {},
   "outputs": [],
   "source": []
  },
  {
   "cell_type": "code",
   "execution_count": null,
   "id": "1b2f8c2b",
   "metadata": {},
   "outputs": [],
   "source": [
    "# PYTHON DEFAULT FUNCTION TO CHECK IF FIRST NUMBER IS GREATER THAN SECOND ONE ?"
   ]
  },
  {
   "cell_type": "code",
   "execution_count": 45,
   "id": "b99d09cb",
   "metadata": {},
   "outputs": [],
   "source": [
    "class demoo:\n",
    "    def __init__(self,name,number):\n",
    "        self.name = name\n",
    "        self.number = number\n",
    "        \n",
    "    def __lt__(self,other):\n",
    "        return self.number < other.number"
   ]
  },
  {
   "cell_type": "code",
   "execution_count": 46,
   "id": "e48788b3",
   "metadata": {},
   "outputs": [],
   "source": [
    "demo3 = demoo('sourabh',30)\n",
    "demo4 = demoo('kumar',10)"
   ]
  },
  {
   "cell_type": "code",
   "execution_count": 47,
   "id": "1de27653",
   "metadata": {},
   "outputs": [
    {
     "data": {
      "text/plain": [
       "False"
      ]
     },
     "execution_count": 47,
     "metadata": {},
     "output_type": "execute_result"
    }
   ],
   "source": [
    "demo3<demo4"
   ]
  },
  {
   "cell_type": "code",
   "execution_count": null,
   "id": "46916a6b",
   "metadata": {},
   "outputs": [],
   "source": []
  },
  {
   "cell_type": "code",
   "execution_count": null,
   "id": "a1a78d5b",
   "metadata": {},
   "outputs": [],
   "source": [
    "# ------------------------------------------------------------------------------------"
   ]
  },
  {
   "cell_type": "code",
   "execution_count": null,
   "id": "f4517533",
   "metadata": {},
   "outputs": [],
   "source": []
  },
  {
   "cell_type": "code",
   "execution_count": 48,
   "id": "b4cf45ec",
   "metadata": {},
   "outputs": [],
   "source": [
    "class Car:\n",
    "    def __init__(self,name,mileage):\n",
    "        self.name = name\n",
    "        self.mileage = mileage\n",
    "        \n",
    "    # when object is printed __str__ function is called\n",
    "    def __str__(self):\n",
    "        return f\"This car is {self.name} and it has a mileage of {self.mileage}.\"\n",
    "    \n",
    "    \n",
    "    # to enable the use of addition operator\n",
    "    #def __add__(self,other):\n",
    "     #   return self.mileage + other.mileage\n",
    "        \n",
    "    def __add__(self,other):\n",
    "        mileage =  self.mileage + other.mileage    \n",
    "        return Car('xyz',mileage)"
   ]
  },
  {
   "cell_type": "code",
   "execution_count": 49,
   "id": "cddec7d4",
   "metadata": {},
   "outputs": [],
   "source": [
    "x1 = Car('thar',10)\n",
    "x2 = Car('punch',30)"
   ]
  },
  {
   "cell_type": "code",
   "execution_count": 50,
   "id": "520b3e36",
   "metadata": {},
   "outputs": [
    {
     "name": "stdout",
     "output_type": "stream",
     "text": [
      "This car is thar and it has a mileage of 10.\n"
     ]
    }
   ],
   "source": [
    "# output is due to __str__ function.\n",
    "print(x1)"
   ]
  },
  {
   "cell_type": "code",
   "execution_count": 51,
   "id": "0e4f98d3",
   "metadata": {},
   "outputs": [],
   "source": [
    "# due to '+' the code of command will go to __add__ function, there mileage will be 40.\n",
    "# in next line Class 'Car' is passed with 'xyz' as a name parameter and and newly calculated as mileage parameter.\n",
    "# after the 'Car' class is called self.name and self.mileage will be replaced with 'xyz' and 40 respectively.\n",
    "\n",
    "car_add = x1 + x2"
   ]
  },
  {
   "cell_type": "code",
   "execution_count": 52,
   "id": "83f3b99b",
   "metadata": {},
   "outputs": [
    {
     "name": "stdout",
     "output_type": "stream",
     "text": [
      "This car is xyz and it has a mileage of 40.\n"
     ]
    }
   ],
   "source": [
    "# after all the above process are done,\n",
    "# due to print() function -> 'print(car_add)' , the code of command will go to __str__.\n",
    "# that will print the string with self.name ('xyz') and self.mileage (40).\n",
    "\n",
    "print(car_add)"
   ]
  },
  {
   "cell_type": "code",
   "execution_count": null,
   "id": "42152920",
   "metadata": {},
   "outputs": [],
   "source": []
  },
  {
   "cell_type": "code",
   "execution_count": 53,
   "id": "926c1a32",
   "metadata": {},
   "outputs": [],
   "source": [
    "final_add = x1+x2+Car('abc',10)"
   ]
  },
  {
   "cell_type": "code",
   "execution_count": 54,
   "id": "08638d51",
   "metadata": {},
   "outputs": [
    {
     "name": "stdout",
     "output_type": "stream",
     "text": [
      "This car is xyz and it has a mileage of 50.\n"
     ]
    }
   ],
   "source": [
    "print(final_add)"
   ]
  },
  {
   "cell_type": "code",
   "execution_count": null,
   "id": "5de13280",
   "metadata": {},
   "outputs": [],
   "source": []
  },
  {
   "cell_type": "code",
   "execution_count": null,
   "id": "d78bc8b0",
   "metadata": {},
   "outputs": [],
   "source": []
  },
  {
   "cell_type": "code",
   "execution_count": null,
   "id": "b446d724",
   "metadata": {},
   "outputs": [],
   "source": []
  },
  {
   "cell_type": "code",
   "execution_count": 55,
   "id": "345324e6",
   "metadata": {},
   "outputs": [],
   "source": [
    "#------------------------------------------------------------------------------------"
   ]
  },
  {
   "cell_type": "markdown",
   "id": "bb6cca77",
   "metadata": {},
   "source": [
    "### INHERITANCE"
   ]
  },
  {
   "cell_type": "code",
   "execution_count": null,
   "id": "298c17c2",
   "metadata": {},
   "outputs": [],
   "source": []
  },
  {
   "cell_type": "code",
   "execution_count": null,
   "id": "018d8340",
   "metadata": {},
   "outputs": [],
   "source": [
    "# start class name with capital letters or we use camel case"
   ]
  },
  {
   "cell_type": "code",
   "execution_count": null,
   "id": "b5048113",
   "metadata": {},
   "outputs": [],
   "source": []
  },
  {
   "cell_type": "code",
   "execution_count": 82,
   "id": "6383a117",
   "metadata": {},
   "outputs": [],
   "source": [
    "class SchoolMember:\n",
    "    def __init__(self,name):     #-Parent_Class\n",
    "        self.name = name\n",
    "        \n",
    "class Student(SchoolMember):     #inheriting parent class, - Child1\n",
    "    def __init__(self,name,grade):\n",
    "        super().__init__(name)\n",
    "        self.grade = grade\n",
    "        \n",
    "class Staff(SchoolMember):       #inheriting parent class  -Child2\n",
    "    def __init__(self,name,salary):\n",
    "        super().__init__(name)\n",
    "        self.salary = salary\n",
    "        \n",
    "class Teacher(Staff):\n",
    "    def __init__(self,name,salary,subject):  #-Child3\n",
    "        super().__init__(name,salary)\n",
    "        self.subject = subject\n",
    "    "
   ]
  },
  {
   "cell_type": "code",
   "execution_count": 64,
   "id": "9ea5f635",
   "metadata": {},
   "outputs": [],
   "source": [
    "s1 = Student('Krishna','A')"
   ]
  },
  {
   "cell_type": "code",
   "execution_count": 65,
   "id": "f51a8542",
   "metadata": {},
   "outputs": [
    {
     "data": {
      "text/plain": [
       "'A'"
      ]
     },
     "execution_count": 65,
     "metadata": {},
     "output_type": "execute_result"
    }
   ],
   "source": [
    "s1.grade"
   ]
  },
  {
   "cell_type": "code",
   "execution_count": 60,
   "id": "1cf25b91",
   "metadata": {},
   "outputs": [
    {
     "ename": "AttributeError",
     "evalue": "'Student' object has no attribute 'name'",
     "output_type": "error",
     "traceback": [
      "\u001b[1;31m---------------------------------------------------------------------------\u001b[0m",
      "\u001b[1;31mAttributeError\u001b[0m                            Traceback (most recent call last)",
      "Input \u001b[1;32mIn [60]\u001b[0m, in \u001b[0;36m<cell line: 1>\u001b[1;34m()\u001b[0m\n\u001b[1;32m----> 1\u001b[0m \u001b[43ms1\u001b[49m\u001b[38;5;241;43m.\u001b[39;49m\u001b[43mname\u001b[49m\n",
      "\u001b[1;31mAttributeError\u001b[0m: 'Student' object has no attribute 'name'"
     ]
    }
   ],
   "source": [
    "# name is from Parent_Class, we directly cant use it. we need to use 'super().__init__('inheriting_variable')'\n",
    "# before\n",
    "s1.name"
   ]
  },
  {
   "cell_type": "code",
   "execution_count": 66,
   "id": "15a2fd04",
   "metadata": {},
   "outputs": [
    {
     "data": {
      "text/plain": [
       "'Krishna'"
      ]
     },
     "execution_count": 66,
     "metadata": {},
     "output_type": "execute_result"
    }
   ],
   "source": [
    "# after\n",
    "s1.name"
   ]
  },
  {
   "cell_type": "code",
   "execution_count": null,
   "id": "76a0b4e5",
   "metadata": {},
   "outputs": [],
   "source": []
  },
  {
   "cell_type": "code",
   "execution_count": 79,
   "id": "1ada3e24",
   "metadata": {},
   "outputs": [],
   "source": [
    "s4 = Teacher('sourabh',50,'DS')"
   ]
  },
  {
   "cell_type": "code",
   "execution_count": 80,
   "id": "0e8e0679",
   "metadata": {},
   "outputs": [
    {
     "data": {
      "text/plain": [
       "'DS'"
      ]
     },
     "execution_count": 80,
     "metadata": {},
     "output_type": "execute_result"
    }
   ],
   "source": [
    "s4.subject"
   ]
  },
  {
   "cell_type": "code",
   "execution_count": 81,
   "id": "1740f35f",
   "metadata": {},
   "outputs": [
    {
     "data": {
      "text/plain": [
       "50"
      ]
     },
     "execution_count": 81,
     "metadata": {},
     "output_type": "execute_result"
    }
   ],
   "source": [
    "s4.salary"
   ]
  },
  {
   "cell_type": "code",
   "execution_count": null,
   "id": "7a14b35e",
   "metadata": {},
   "outputs": [],
   "source": []
  },
  {
   "cell_type": "code",
   "execution_count": 83,
   "id": "4aaf1303",
   "metadata": {},
   "outputs": [],
   "source": [
    "s3 = Staff('sourabh',60)"
   ]
  },
  {
   "cell_type": "code",
   "execution_count": 84,
   "id": "c1cd66ce",
   "metadata": {},
   "outputs": [
    {
     "data": {
      "text/plain": [
       "'sourabh'"
      ]
     },
     "execution_count": 84,
     "metadata": {},
     "output_type": "execute_result"
    }
   ],
   "source": [
    "s3.name"
   ]
  },
  {
   "cell_type": "code",
   "execution_count": 85,
   "id": "df424a2b",
   "metadata": {},
   "outputs": [
    {
     "data": {
      "text/plain": [
       "60"
      ]
     },
     "execution_count": 85,
     "metadata": {},
     "output_type": "execute_result"
    }
   ],
   "source": [
    "s3.salary"
   ]
  },
  {
   "cell_type": "code",
   "execution_count": null,
   "id": "1710abb6",
   "metadata": {},
   "outputs": [],
   "source": []
  },
  {
   "cell_type": "code",
   "execution_count": null,
   "id": "bf936874",
   "metadata": {},
   "outputs": [],
   "source": []
  },
  {
   "cell_type": "markdown",
   "id": "fa6a4bc8",
   "metadata": {},
   "source": [
    "### ASSIGNMENT"
   ]
  },
  {
   "cell_type": "code",
   "execution_count": null,
   "id": "2bbb4c34",
   "metadata": {},
   "outputs": [],
   "source": [
    "# 2"
   ]
  },
  {
   "cell_type": "code",
   "execution_count": 87,
   "id": "fdb0f9a7",
   "metadata": {},
   "outputs": [
    {
     "name": "stdout",
     "output_type": "stream",
     "text": [
      "5\n"
     ]
    }
   ],
   "source": [
    "class car:\n",
    "    def __init__(self):\n",
    "        self.price = 100\n",
    "        self.__cover = 5\n",
    "\n",
    "    def display(self):\n",
    "        print(self.__cover)\n",
    "\n",
    "obj=car()\n",
    "obj.display()"
   ]
  },
  {
   "cell_type": "code",
   "execution_count": null,
   "id": "ccc761c0",
   "metadata": {},
   "outputs": [],
   "source": []
  },
  {
   "cell_type": "code",
   "execution_count": null,
   "id": "4a5ff236",
   "metadata": {},
   "outputs": [],
   "source": []
  },
  {
   "cell_type": "code",
   "execution_count": null,
   "id": "7b3c2e81",
   "metadata": {},
   "outputs": [],
   "source": [
    "# 8"
   ]
  },
  {
   "cell_type": "code",
   "execution_count": 88,
   "id": "d7535c4d",
   "metadata": {},
   "outputs": [
    {
     "name": "stdout",
     "output_type": "stream",
     "text": [
      "60\n"
     ]
    }
   ],
   "source": [
    "class Parent:\n",
    "    def __init__(self):\n",
    "        pass\n",
    "    def print(self):\n",
    "        print(\"60\")\n",
    "\n",
    "class Child(Parent):\n",
    "    \n",
    "    def __init__(self):\n",
    "        super().__init__()\n",
    "    def type(self):\n",
    "        self.print() # This block has to be completed.\n",
    "\n",
    "C=Child()\n",
    "C.type()"
   ]
  },
  {
   "cell_type": "code",
   "execution_count": 90,
   "id": "15985a27",
   "metadata": {},
   "outputs": [
    {
     "name": "stdout",
     "output_type": "stream",
     "text": [
      "60\n"
     ]
    }
   ],
   "source": [
    "class Parent:\n",
    "    def __init__(self):\n",
    "        pass\n",
    "    def print(self):\n",
    "        print(\"60\")\n",
    "\n",
    "class Child(Parent):\n",
    "    \n",
    "    def __init__(self):\n",
    "        super().__init__()\n",
    "    def type(self):\n",
    "        super().print() # This block has to be completed.\n",
    "\n",
    "C=Child()\n",
    "C.type()"
   ]
  },
  {
   "cell_type": "code",
   "execution_count": null,
   "id": "41bda998",
   "metadata": {},
   "outputs": [],
   "source": []
  },
  {
   "cell_type": "code",
   "execution_count": null,
   "id": "1805209d",
   "metadata": {},
   "outputs": [],
   "source": []
  },
  {
   "cell_type": "code",
   "execution_count": null,
   "id": "c2fd0892",
   "metadata": {},
   "outputs": [],
   "source": [
    "# 7"
   ]
  },
  {
   "cell_type": "code",
   "execution_count": 91,
   "id": "7aa89699",
   "metadata": {},
   "outputs": [
    {
     "name": "stdout",
     "output_type": "stream",
     "text": [
      "B\n"
     ]
    }
   ],
   "source": [
    "class A:\n",
    "    def one(self):\n",
    "        return self.two()\n",
    "    def two(self):\n",
    "        return 'A'\n",
    "class B(A):\n",
    "    def two(self):\n",
    "        return 'B'\n",
    "obj= B()\n",
    "print(obj.one())"
   ]
  },
  {
   "cell_type": "code",
   "execution_count": null,
   "id": "52c864b4",
   "metadata": {},
   "outputs": [],
   "source": []
  },
  {
   "cell_type": "code",
   "execution_count": null,
   "id": "353a6666",
   "metadata": {},
   "outputs": [],
   "source": []
  },
  {
   "cell_type": "code",
   "execution_count": null,
   "id": "49e854d2",
   "metadata": {},
   "outputs": [],
   "source": [
    "# 6"
   ]
  },
  {
   "cell_type": "code",
   "execution_count": 96,
   "id": "fc994505",
   "metadata": {},
   "outputs": [
    {
     "name": "stdout",
     "output_type": "stream",
     "text": [
      "student description\n"
     ]
    }
   ],
   "source": [
    "class student: \n",
    "    def __init__(self): \n",
    "        '''The student class is initialized'''\n",
    "\n",
    "    def print_student(self): \n",
    "        '''Returns the student description'''\n",
    "        print('student description') \n",
    "\n",
    "s = student()\n",
    "s.print_student()"
   ]
  },
  {
   "cell_type": "code",
   "execution_count": 97,
   "id": "9def5128",
   "metadata": {},
   "outputs": [
    {
     "name": "stdout",
     "output_type": "stream",
     "text": [
      "Help on class student in module __main__:\n",
      "\n",
      "class student(builtins.object)\n",
      " |  Methods defined here:\n",
      " |  \n",
      " |  __init__(self)\n",
      " |      The student class is initialized\n",
      " |  \n",
      " |  print_student(self)\n",
      " |      Returns the student description\n",
      " |  \n",
      " |  ----------------------------------------------------------------------\n",
      " |  Data descriptors defined here:\n",
      " |  \n",
      " |  __dict__\n",
      " |      dictionary for instance variables (if defined)\n",
      " |  \n",
      " |  __weakref__\n",
      " |      list of weak references to the object (if defined)\n",
      "\n"
     ]
    }
   ],
   "source": [
    "class student: \n",
    "    def __init__(self): \n",
    "        '''The student class is initialized'''\n",
    "\n",
    "    def print_student(self): \n",
    "        '''Returns the student description'''\n",
    "        print('student description') \n",
    "\n",
    "help(student)"
   ]
  },
  {
   "cell_type": "code",
   "execution_count": null,
   "id": "9ce69b27",
   "metadata": {},
   "outputs": [],
   "source": []
  },
  {
   "cell_type": "code",
   "execution_count": null,
   "id": "4c83fd18",
   "metadata": {},
   "outputs": [],
   "source": []
  },
  {
   "cell_type": "code",
   "execution_count": null,
   "id": "b1ca064b",
   "metadata": {},
   "outputs": [],
   "source": [
    "# 4"
   ]
  },
  {
   "cell_type": "code",
   "execution_count": 118,
   "id": "65fdd845",
   "metadata": {},
   "outputs": [],
   "source": [
    "ss = 'Itsreallynoone'"
   ]
  },
  {
   "cell_type": "code",
   "execution_count": 117,
   "id": "a01a1aa0",
   "metadata": {},
   "outputs": [
    {
     "name": "stdout",
     "output_type": "stream",
     "text": [
      "8\n"
     ]
    }
   ],
   "source": [
    "count = 0\n",
    "for i in ss:\n",
    "    if i.islower() and i not in('aeiou'):\n",
    "        count +=1\n",
    "print(count)        "
   ]
  },
  {
   "cell_type": "code",
   "execution_count": 114,
   "id": "1cbb4959",
   "metadata": {},
   "outputs": [
    {
     "data": {
      "text/plain": [
       "'f'"
      ]
     },
     "execution_count": 114,
     "metadata": {},
     "output_type": "execute_result"
    }
   ],
   "source": [
    "str.lower('F')"
   ]
  },
  {
   "cell_type": "code",
   "execution_count": 113,
   "id": "267b4e5e",
   "metadata": {},
   "outputs": [
    {
     "data": {
      "text/plain": [
       "'F'"
      ]
     },
     "execution_count": 113,
     "metadata": {},
     "output_type": "execute_result"
    }
   ],
   "source": [
    "str.upper('f')"
   ]
  },
  {
   "cell_type": "code",
   "execution_count": 115,
   "id": "05b2c5c8",
   "metadata": {},
   "outputs": [
    {
     "data": {
      "text/plain": [
       "True"
      ]
     },
     "execution_count": 115,
     "metadata": {},
     "output_type": "execute_result"
    }
   ],
   "source": [
    "'f'.islower()"
   ]
  },
  {
   "cell_type": "code",
   "execution_count": null,
   "id": "1a181d44",
   "metadata": {},
   "outputs": [],
   "source": []
  },
  {
   "cell_type": "code",
   "execution_count": null,
   "id": "e8f36abc",
   "metadata": {},
   "outputs": [],
   "source": []
  },
  {
   "cell_type": "code",
   "execution_count": null,
   "id": "7e7f35b3",
   "metadata": {},
   "outputs": [],
   "source": []
  },
  {
   "cell_type": "markdown",
   "id": "d9b965d8",
   "metadata": {},
   "source": [
    "###  ADDITIONAL PROBLEM"
   ]
  },
  {
   "cell_type": "code",
   "execution_count": null,
   "id": "37bdb342",
   "metadata": {},
   "outputs": [],
   "source": [
    "# 4"
   ]
  },
  {
   "cell_type": "code",
   "execution_count": 119,
   "id": "503d5b46",
   "metadata": {},
   "outputs": [
    {
     "name": "stdout",
     "output_type": "stream",
     "text": [
      "AI's check ML's check "
     ]
    }
   ],
   "source": [
    "class AI:\n",
    "    def check(self):\n",
    "        return \"AI's check\"\n",
    "    def display(self):\n",
    "        print(self.check(),end=\" \")\n",
    "\n",
    "class ML(AI):\n",
    "    def check(self):\n",
    "        return \"ML's check\"\n",
    "\n",
    "AI().display()\n",
    "ML().display()"
   ]
  },
  {
   "cell_type": "code",
   "execution_count": null,
   "id": "075f08b6",
   "metadata": {},
   "outputs": [],
   "source": []
  },
  {
   "cell_type": "code",
   "execution_count": null,
   "id": "82b713b0",
   "metadata": {},
   "outputs": [],
   "source": [
    "# 5"
   ]
  },
  {
   "cell_type": "code",
   "execution_count": 121,
   "id": "75a033a6",
   "metadata": {},
   "outputs": [
    {
     "ename": "AttributeError",
     "evalue": "'Employee' object has no attribute '__salary'",
     "output_type": "error",
     "traceback": [
      "\u001b[1;31m---------------------------------------------------------------------------\u001b[0m",
      "\u001b[1;31mAttributeError\u001b[0m                            Traceback (most recent call last)",
      "Input \u001b[1;32mIn [121]\u001b[0m, in \u001b[0;36m<cell line: 11>\u001b[1;34m()\u001b[0m\n\u001b[0;32m      7\u001b[0m         \u001b[38;5;28mself\u001b[39m\u001b[38;5;241m.\u001b[39m__salary\u001b[38;5;241m=\u001b[39mval\n\u001b[0;32m      9\u001b[0m e1\u001b[38;5;241m=\u001b[39mEmployee(\u001b[38;5;124m\"\u001b[39m\u001b[38;5;124mRahul\u001b[39m\u001b[38;5;124m\"\u001b[39m,\u001b[38;5;241m200\u001b[39m)\n\u001b[1;32m---> 11\u001b[0m \u001b[38;5;28mprint\u001b[39m(\u001b[43me1\u001b[49m\u001b[38;5;241;43m.\u001b[39;49m\u001b[43m__salary\u001b[49m)\n",
      "\u001b[1;31mAttributeError\u001b[0m: 'Employee' object has no attribute '__salary'"
     ]
    }
   ],
   "source": [
    "class Employee:\n",
    "\n",
    "    def __init__(self, name, val):\n",
    "\n",
    "        self.__name=name\n",
    "\n",
    "        self.__salary=val\n",
    "\n",
    "e1=Employee(\"Rahul\",200)\n",
    "\n",
    "print(e1.__salary)"
   ]
  },
  {
   "cell_type": "code",
   "execution_count": null,
   "id": "8d2d6a6c",
   "metadata": {},
   "outputs": [],
   "source": []
  },
  {
   "cell_type": "code",
   "execution_count": null,
   "id": "00f61338",
   "metadata": {},
   "outputs": [],
   "source": []
  },
  {
   "cell_type": "code",
   "execution_count": 25,
   "id": "5223dcca",
   "metadata": {},
   "outputs": [],
   "source": [
    "class best:\n",
    "    def check (self):\n",
    "        return 'RAM IS BEST'\n",
    "    def display(self):\n",
    "        print(self.check())\n",
    "        \n",
    "       \n",
    "class friend(best):\n",
    "    def check(self):\n",
    "        return 'RAM IS FRIEND'\n",
    "    \n",
    "class forever(best):\n",
    "    def check(self):\n",
    "        return 'RAM IS FOREVER'\n",
    "    "
   ]
  },
  {
   "cell_type": "code",
   "execution_count": 26,
   "id": "8789820a",
   "metadata": {},
   "outputs": [],
   "source": [
    "b=best()"
   ]
  },
  {
   "cell_type": "code",
   "execution_count": 27,
   "id": "ee5eb1aa",
   "metadata": {},
   "outputs": [
    {
     "name": "stdout",
     "output_type": "stream",
     "text": [
      "RAM IS BEST\n",
      "None\n"
     ]
    }
   ],
   "source": [
    "print(b.display())"
   ]
  },
  {
   "cell_type": "code",
   "execution_count": 28,
   "id": "8349fad2",
   "metadata": {},
   "outputs": [
    {
     "name": "stdout",
     "output_type": "stream",
     "text": [
      "RAM IS FRIEND\n"
     ]
    }
   ],
   "source": [
    "friend().display()"
   ]
  },
  {
   "cell_type": "code",
   "execution_count": 29,
   "id": "6122d1c7",
   "metadata": {},
   "outputs": [
    {
     "name": "stdout",
     "output_type": "stream",
     "text": [
      "RAM IS FOREVER\n"
     ]
    }
   ],
   "source": [
    "forever().display()"
   ]
  },
  {
   "cell_type": "code",
   "execution_count": null,
   "id": "fc36cc30",
   "metadata": {},
   "outputs": [],
   "source": []
  },
  {
   "cell_type": "code",
   "execution_count": null,
   "id": "06910212",
   "metadata": {},
   "outputs": [],
   "source": []
  },
  {
   "cell_type": "code",
   "execution_count": null,
   "id": "30ab97e3",
   "metadata": {},
   "outputs": [],
   "source": [
    "# 7\n",
    "# very very important"
   ]
  },
  {
   "cell_type": "code",
   "execution_count": null,
   "id": "315da159",
   "metadata": {},
   "outputs": [],
   "source": [
    "# cls is a keyword that’s used to access a class method, which is a code template for creating objects.\n",
    "# self is a keyword that’s used to access an instance method, which retrieves all the attributes of a class.\n",
    "\n",
    "# help link\n",
    "# https://santoshk.dev/posts/2022/__init__-vs-__new__-and-when-to-use-them/\n",
    "# https://builtin.com/software-engineering-perspectives/python-cls"
   ]
  },
  {
   "cell_type": "code",
   "execution_count": 30,
   "id": "72b3a819",
   "metadata": {},
   "outputs": [
    {
     "name": "stdout",
     "output_type": "stream",
     "text": [
      "__new__ called\n",
      "__init__ called\n"
     ]
    }
   ],
   "source": [
    "class Demo:\n",
    "    def __new__(cls, *args):\n",
    "        print(\"__new__ called\")\n",
    "        return object.__new__(cls)\n",
    "\n",
    "    def __init__(self):\n",
    "        print(\"__init__ called\")\n",
    "\n",
    "d = Demo()"
   ]
  },
  {
   "cell_type": "code",
   "execution_count": null,
   "id": "ddabbf71",
   "metadata": {},
   "outputs": [],
   "source": []
  },
  {
   "cell_type": "code",
   "execution_count": null,
   "id": "7425f52a",
   "metadata": {},
   "outputs": [],
   "source": []
  },
  {
   "cell_type": "code",
   "execution_count": null,
   "id": "25c0b9ce",
   "metadata": {},
   "outputs": [],
   "source": [
    "# 8"
   ]
  },
  {
   "cell_type": "code",
   "execution_count": 31,
   "id": "b12bbdd4",
   "metadata": {},
   "outputs": [
    {
     "name": "stdout",
     "output_type": "stream",
     "text": [
      "Rachel says, Grrrr!\n"
     ]
    }
   ],
   "source": [
    "class A:\n",
    "    def __init__(self, name, sound=\"Grrrr\"):\n",
    "        self.name = name\n",
    "        self.sound = sound\n",
    "\n",
    "def make_noise(self):\n",
    "    print(\"{} says, {}\".format(self.name,self.sound))\n",
    "\n",
    "class B(A):\n",
    "    def __init__(self, name=\"Rachel\"):\n",
    "        super().__init__(name, \"Meow!\")\n",
    "\n",
    "    def make_noise(self,sound=\"Grrrr!\"):\n",
    "        print(\"{} says, {}\".format(self.name, sound))\n",
    "\n",
    "pet_cat = B()\n",
    "pet_cat.make_noise()"
   ]
  },
  {
   "cell_type": "code",
   "execution_count": null,
   "id": "572a27d2",
   "metadata": {},
   "outputs": [],
   "source": []
  },
  {
   "cell_type": "code",
   "execution_count": null,
   "id": "54238af6",
   "metadata": {},
   "outputs": [],
   "source": []
  },
  {
   "cell_type": "code",
   "execution_count": 32,
   "id": "a1521f1f",
   "metadata": {},
   "outputs": [],
   "source": [
    "# 9"
   ]
  },
  {
   "cell_type": "code",
   "execution_count": 33,
   "id": "53a32f0f",
   "metadata": {},
   "outputs": [],
   "source": [
    "class Props:\n",
    "    def __init__(self, x, y):\n",
    "        self.x = x\n",
    "        self.y = y\n",
    "        \n",
    "class Ball(Props):\n",
    "    def __init__(self, x, y):\n",
    "        super().__init__(x, y)\n",
    "        self.shape = \"o\"\n",
    "        self.number = 1\n",
    "        self.vely = 0\n",
    "        self.velx = 0\n",
    "\n",
    "    def get_x(self):\n",
    "        return self.x\n",
    " \n",
    "    def get_y(self):\n",
    "        return self.y\n",
    "\n",
    "    def get_velx(self):\n",
    "        return self.velx\n",
    " \n",
    "    def get_vely(self):\n",
    "        return self.vely\n",
    "    \n",
    "    def inc_velx(self):\n",
    "        self.velx = self.velx+2\n",
    "    \n",
    "    def inc_vely(self):\n",
    "        self.vely = self.vely+1"
   ]
  },
  {
   "cell_type": "code",
   "execution_count": null,
   "id": "74ed03f9",
   "metadata": {},
   "outputs": [],
   "source": [
    "obj_ball = Ball(27,3)\n",
    "\n",
    "bx = obj_ball.get_x()\n",
    "by = obj_ball.get_y()\n",
    "b_velx = obj_ball.get_velx()\n",
    "b_vely = obj_ball.get_vely()\n",
    "\n",
    "print(bx, by, b_velx, b_vely)"
   ]
  },
  {
   "cell_type": "code",
   "execution_count": null,
   "id": "371fa0fb",
   "metadata": {},
   "outputs": [],
   "source": []
  },
  {
   "cell_type": "code",
   "execution_count": null,
   "id": "7d14f32a",
   "metadata": {},
   "outputs": [],
   "source": []
  },
  {
   "cell_type": "code",
   "execution_count": null,
   "id": "8f5ce39a",
   "metadata": {},
   "outputs": [],
   "source": [
    "# HELP LINK\n",
    "# https://blog.hubspot.com/website/python-self#:~:text=Let's%20get%20started.-,What%20is%20SELF%20in%20Python%3F,a%20defined%20class%20in%20Python."
   ]
  },
  {
   "cell_type": "code",
   "execution_count": 35,
   "id": "b81dd84f",
   "metadata": {},
   "outputs": [
    {
     "name": "stdout",
     "output_type": "stream",
     "text": [
      "My Address is Albert Street\n"
     ]
    }
   ],
   "source": [
    "class Address:\n",
    "    def __init__(mine, street, number):\n",
    "        mine.street = street\n",
    "        mine.number = number\n",
    "\n",
    "    def myfunc(abc):\n",
    "        print(\"My Address is \" + abc.street)\n",
    "\n",
    "p1 = Address(\"Albert Street\", 20)\n",
    "p1.myfunc()"
   ]
  },
  {
   "cell_type": "code",
   "execution_count": null,
   "id": "6d8dd27d",
   "metadata": {},
   "outputs": [],
   "source": []
  },
  {
   "cell_type": "code",
   "execution_count": null,
   "id": "cc258643",
   "metadata": {},
   "outputs": [],
   "source": []
  },
  {
   "cell_type": "markdown",
   "id": "9a70647b",
   "metadata": {},
   "source": [
    "###  MRO (METHOD RESOLUTION ORDER)"
   ]
  },
  {
   "cell_type": "code",
   "execution_count": null,
   "id": "dd11c13e",
   "metadata": {},
   "outputs": [],
   "source": []
  },
  {
   "cell_type": "code",
   "execution_count": 36,
   "id": "50de0906",
   "metadata": {},
   "outputs": [
    {
     "data": {
      "text/plain": [
       "5"
      ]
     },
     "execution_count": 36,
     "metadata": {},
     "output_type": "execute_result"
    }
   ],
   "source": [
    "class A:\n",
    "    x = 10\n",
    "class B(A):\n",
    "    pass\n",
    "class C(B):\n",
    "    pass\n",
    "class D(A):\n",
    "    x= 5\n",
    "class E(C,D):\n",
    "    pass\n",
    "\n",
    "e = E()\n",
    "e.x\n",
    "    "
   ]
  },
  {
   "cell_type": "code",
   "execution_count": null,
   "id": "6d4cea64",
   "metadata": {},
   "outputs": [],
   "source": []
  },
  {
   "cell_type": "code",
   "execution_count": null,
   "id": "f9139565",
   "metadata": {},
   "outputs": [],
   "source": [
    "# HELP LINK\n",
    "# https://www.educative.io/answers/what-is-mro-in-python"
   ]
  },
  {
   "cell_type": "code",
   "execution_count": 53,
   "id": "712e85c2",
   "metadata": {},
   "outputs": [
    {
     "name": "stdout",
     "output_type": "stream",
     "text": [
      "A.method() called\n"
     ]
    }
   ],
   "source": [
    "class A:\n",
    "    def method(self):\n",
    "        print(\"A.method() called\")\n",
    "\n",
    "class B:\n",
    "    def method(self):\n",
    "        print(\"B.method() called\")\n",
    "\n",
    "class C(A, B):\n",
    "    pass\n",
    "\n",
    "class D(C, B):\n",
    "    pass\n",
    "\n",
    "d = D()\n",
    "d.method()"
   ]
  },
  {
   "cell_type": "code",
   "execution_count": 43,
   "id": "8ed1a427",
   "metadata": {},
   "outputs": [
    {
     "data": {
      "text/plain": [
       "[__main__.D, __main__.C, __main__.A, __main__.B, object]"
      ]
     },
     "execution_count": 43,
     "metadata": {},
     "output_type": "execute_result"
    }
   ],
   "source": [
    "D.mro()"
   ]
  },
  {
   "cell_type": "code",
   "execution_count": null,
   "id": "241700c9",
   "metadata": {},
   "outputs": [],
   "source": []
  },
  {
   "cell_type": "code",
   "execution_count": 49,
   "id": "833bece9",
   "metadata": {},
   "outputs": [],
   "source": [
    "class x:\n",
    "    pass\n",
    "class y:\n",
    "    pass\n",
    "class z:\n",
    "    pass\n",
    "class a(x,y):\n",
    "    pass\n",
    "class b(y,z):\n",
    "    pass\n",
    "class m(b,a,z):\n",
    "    pass"
   ]
  },
  {
   "cell_type": "code",
   "execution_count": 47,
   "id": "c22b7657",
   "metadata": {},
   "outputs": [],
   "source": [
    "# m-b-y-z-x-y-z"
   ]
  },
  {
   "cell_type": "code",
   "execution_count": 50,
   "id": "e51a77aa",
   "metadata": {},
   "outputs": [
    {
     "data": {
      "text/plain": [
       "[__main__.m,\n",
       " __main__.b,\n",
       " __main__.a,\n",
       " __main__.x,\n",
       " __main__.y,\n",
       " __main__.z,\n",
       " object]"
      ]
     },
     "execution_count": 50,
     "metadata": {},
     "output_type": "execute_result"
    }
   ],
   "source": [
    "m.mro()"
   ]
  },
  {
   "cell_type": "code",
   "execution_count": null,
   "id": "2c491625",
   "metadata": {},
   "outputs": [],
   "source": []
  },
  {
   "cell_type": "code",
   "execution_count": null,
   "id": "e7c34aae",
   "metadata": {},
   "outputs": [],
   "source": []
  },
  {
   "cell_type": "code",
   "execution_count": 69,
   "id": "e2215345",
   "metadata": {},
   "outputs": [],
   "source": [
    "class x:\n",
    "    def method(self):\n",
    "        print(\"X invoked\") \n",
    "class y:\n",
    "    def method(self):\n",
    "        print(\"y invoked\") \n",
    "class z:\n",
    "    def method(self):\n",
    "        print(\"z invoked\") \n",
    "class a(x, y):\n",
    "    pass \n",
    "class b(y, z):\n",
    "    pass\n",
    "class m(b, a, z):\n",
    "    pass"
   ]
  },
  {
   "cell_type": "code",
   "execution_count": 70,
   "id": "17b547a6",
   "metadata": {},
   "outputs": [
    {
     "name": "stdout",
     "output_type": "stream",
     "text": [
      "X invoked\n"
     ]
    }
   ],
   "source": [
    "a = m()\n",
    "a.method()"
   ]
  },
  {
   "cell_type": "code",
   "execution_count": 73,
   "id": "5773abcc",
   "metadata": {},
   "outputs": [],
   "source": [
    "# in the above code when a.method() is called, it first searches in 'm class' ,if not found then it goes to 'b' as b is m's \n",
    "# first attribute, in b also that method is not found. then it comes back to (b,a,z) 'a' and in that also its not found.\n",
    "# so it searches in a(x,y) - x. there method is found and print statement got printed.\n",
    "\n",
    "# when control is in b(y,z) - its first attribute 'y' is also present in a(x,y) therefore it doesent go to 'y' class.\n",
    "# then the command comes back to m(b,a,z) and goes to 'a'. It then goes to class 'a', since 'x' is not present as an attribute\n",
    "# so the command goes to class x. and then it gets printed there."
   ]
  },
  {
   "cell_type": "code",
   "execution_count": null,
   "id": "c02e7e62",
   "metadata": {},
   "outputs": [],
   "source": []
  },
  {
   "cell_type": "code",
   "execution_count": 71,
   "id": "899825f8",
   "metadata": {},
   "outputs": [],
   "source": [
    "class x:\n",
    "    def method(self):\n",
    "        print(\"X invoked\") \n",
    "class y:\n",
    "    def method(self):\n",
    "        print(\"y invoked\") \n",
    "class z:\n",
    "    def method(self):\n",
    "        print(\"z invoked\") \n",
    "class a(x, y):\n",
    "    pass \n",
    "class b(y, z):\n",
    "    pass\n",
    "class m(b, a, z):\n",
    "    pass"
   ]
  },
  {
   "cell_type": "code",
   "execution_count": 72,
   "id": "5602c128",
   "metadata": {},
   "outputs": [
    {
     "name": "stdout",
     "output_type": "stream",
     "text": [
      "y invoked\n"
     ]
    }
   ],
   "source": [
    "a = m()\n",
    "a.method()"
   ]
  },
  {
   "cell_type": "code",
   "execution_count": null,
   "id": "659f3271",
   "metadata": {},
   "outputs": [],
   "source": []
  },
  {
   "cell_type": "code",
   "execution_count": 75,
   "id": "ebf8fe9c",
   "metadata": {},
   "outputs": [],
   "source": [
    "class x:\n",
    "    def method(self):\n",
    "        print(\"X invoked\") \n",
    "class y:\n",
    "    def method(self):\n",
    "        print(\"y invoked\") \n",
    "class z:\n",
    "    def method(self):\n",
    "        print(\"z invoked\") \n",
    "class a(x, y):\n",
    "    pass \n",
    "class b(z, y):\n",
    "    pass\n",
    "class m(b, a, z):\n",
    "    pass"
   ]
  },
  {
   "cell_type": "code",
   "execution_count": 76,
   "id": "ed4086fe",
   "metadata": {},
   "outputs": [
    {
     "name": "stdout",
     "output_type": "stream",
     "text": [
      "z invoked\n"
     ]
    }
   ],
   "source": [
    "a = m()\n",
    "a.method()"
   ]
  },
  {
   "cell_type": "code",
   "execution_count": null,
   "id": "e8996cb7",
   "metadata": {},
   "outputs": [],
   "source": []
  }
 ],
 "metadata": {
  "kernelspec": {
   "display_name": "Python 3 (ipykernel)",
   "language": "python",
   "name": "python3"
  },
  "language_info": {
   "codemirror_mode": {
    "name": "ipython",
    "version": 3
   },
   "file_extension": ".py",
   "mimetype": "text/x-python",
   "name": "python",
   "nbconvert_exporter": "python",
   "pygments_lexer": "ipython3",
   "version": "3.9.12"
  }
 },
 "nbformat": 4,
 "nbformat_minor": 5
}
